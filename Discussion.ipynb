{
 "cells": [
  {
   "cell_type": "code",
   "execution_count": 2,
   "id": "806eb385-278e-496d-914f-a1ff4aa0b733",
   "metadata": {},
   "outputs": [],
   "source": [
    "import numpy as np\n",
    "import pandas as pd\n",
    "from datetime import datetime"
   ]
  },
  {
   "cell_type": "markdown",
   "id": "6de5f241-e91a-440e-a3ad-4ac3bcacf035",
   "metadata": {},
   "source": [
    "# Overview\n",
    "\n",
    "In this notebook, we will explore two datasets:\n",
    "1) Covid-19 related data\n",
    "2) Air Quality Index data\n",
    "\n",
    "The idea is to compare data from both datasets to understand whether covid-19 had any impact on the Air Quality. According to IQAir (https://www.iqair.com/malta), in 2021, Malta's most polluted city was L-Imsida and therefore we will be analysizing whether the Air Quality had improved, worsened, or remained as is during the covid period 2020 - 2022."
   ]
  },
  {
   "cell_type": "code",
   "execution_count": 3,
   "id": "ccfc0858-b4dc-4c14-abe9-1f688579996e",
   "metadata": {},
   "outputs": [],
   "source": [
    "csvCovid_path = './Data/COVID19.csv'\n",
    "csvAQI_path = './Data/msida-AQI.csv'\n",
    "\n",
    "covid_df = pd.read_csv (csvCovid_path)\n",
    "aqi_df = pd.read_csv (csvAQI_path)\n",
    "\n",
    "Covidfile = open('./Data/COVID19.csv', 'r')\n",
    "AQIfile = open( './Data/msida-AQI.csv', 'r')\n"
   ]
  },
  {
   "cell_type": "markdown",
   "id": "7741425c-3bd1-4599-a786-82239ceac5fb",
   "metadata": {},
   "source": [
    "# Data Preperation\n",
    "\n",
    "The first step is to understand the data. Both of the datasets will be imported into dataframes to visualise the data better. Since covid started in 2020, we will be removing older data (<2020) from the AQI Dataset.\n"
   ]
  },
  {
   "cell_type": "code",
   "execution_count": 4,
   "id": "25465a7c-e3de-4c44-8508-362571409495",
   "metadata": {},
   "outputs": [
    {
     "data": {
      "text/plain": [
       "Date            object\n",
       "New Cases        int64\n",
       "Total Cases      int64\n",
       "Recovered        int64\n",
       "Deaths           int64\n",
       "Active Cases     int64\n",
       "dtype: object"
      ]
     },
     "execution_count": 4,
     "metadata": {},
     "output_type": "execute_result"
    }
   ],
   "source": [
    "covid_df.dtypes"
   ]
  },
  {
   "cell_type": "code",
   "execution_count": 5,
   "id": "c8bd0711-9625-49c8-9483-790800ab2311",
   "metadata": {},
   "outputs": [
    {
     "data": {
      "text/plain": [
       "2022/12/1    object\n",
       " 64          object\n",
       " 34          object\n",
       " 17          object\n",
       " 30          object\n",
       "             object\n",
       " .1          object\n",
       "dtype: object"
      ]
     },
     "execution_count": 5,
     "metadata": {},
     "output_type": "execute_result"
    }
   ],
   "source": [
    "\n",
    "aqi_df.dtypes"
   ]
  },
  {
   "cell_type": "code",
   "execution_count": 6,
   "id": "40a3f645-ffaa-4c09-a499-acd07d0adea5",
   "metadata": {},
   "outputs": [],
   "source": [
    "def chr_int(a):\n",
    "    if a.isdigit():\n",
    "        return int(a)\n",
    "    else:\n",
    "        return 0\n",
    "                \n",
    "data=[]\n",
    "for line in AQIfile:\n",
    "    data1=line.split(', ')\n",
    "    if len(data1)==7:\n",
    "        data.append([pd.to_datetime(data1[0],format=\"%Y/%m/%d\"),chr_int(data1[1]),chr_int(data1[2]),chr_int(data1[3]),chr_int(data1[4]),chr_int(data1[5]),chr_int(data1[6])])"
   ]
  },
  {
   "cell_type": "code",
   "execution_count": 7,
   "id": "3ce97817-d97f-46fc-b22c-4bb3da4a0d89",
   "metadata": {},
   "outputs": [],
   "source": [
    "aqi_df = pd.DataFrame(data) "
   ]
  },
  {
   "cell_type": "code",
   "execution_count": 8,
   "id": "2e71832f-aef9-481d-afc7-dc1752f0b901",
   "metadata": {},
   "outputs": [
    {
     "data": {
      "text/plain": [
       "0    datetime64[ns]\n",
       "1             int64\n",
       "2             int64\n",
       "3             int64\n",
       "4             int64\n",
       "5             int64\n",
       "6             int64\n",
       "dtype: object"
      ]
     },
     "execution_count": 8,
     "metadata": {},
     "output_type": "execute_result"
    }
   ],
   "source": [
    "aqi_df.dtypes"
   ]
  },
  {
   "cell_type": "code",
   "execution_count": 9,
   "id": "23da91b2-3d10-41c8-8d90-f90cf628a180",
   "metadata": {},
   "outputs": [],
   "source": [
    "aqi_df.columns = [\"date\", \"pm25\", \"pm10\", \"o3\", \n",
    "                \"no2\", \"so2\", \"co\"]\n",
    "\n",
    "\n",
    "#aqi_df = aqi_df.iloc[1: , :]\n",
    "\n",
    "\n"
   ]
  },
  {
   "cell_type": "code",
   "execution_count": 10,
   "id": "a03af14b-39fe-436d-8330-a56dc2df8610",
   "metadata": {},
   "outputs": [],
   "source": [
    "aqi_df = aqi_df[aqi_df.date >= '2020-03-06']\n",
    "aqi_df = aqi_df.sort_values('date')\n",
    "\n",
    "\n"
   ]
  },
  {
   "cell_type": "code",
   "execution_count": 11,
   "id": "dd4b126c-75d6-49f8-a7f3-1d2247393077",
   "metadata": {},
   "outputs": [
    {
     "data": {
      "text/html": [
       "<div>\n",
       "<style scoped>\n",
       "    .dataframe tbody tr th:only-of-type {\n",
       "        vertical-align: middle;\n",
       "    }\n",
       "\n",
       "    .dataframe tbody tr th {\n",
       "        vertical-align: top;\n",
       "    }\n",
       "\n",
       "    .dataframe thead th {\n",
       "        text-align: right;\n",
       "    }\n",
       "</style>\n",
       "<table border=\"1\" class=\"dataframe\">\n",
       "  <thead>\n",
       "    <tr style=\"text-align: right;\">\n",
       "      <th></th>\n",
       "      <th>date</th>\n",
       "      <th>pm25</th>\n",
       "      <th>pm10</th>\n",
       "      <th>o3</th>\n",
       "      <th>no2</th>\n",
       "      <th>so2</th>\n",
       "      <th>co</th>\n",
       "    </tr>\n",
       "  </thead>\n",
       "  <tbody>\n",
       "    <tr>\n",
       "      <th>1011</th>\n",
       "      <td>2020-03-06</td>\n",
       "      <td>29</td>\n",
       "      <td>16</td>\n",
       "      <td>0</td>\n",
       "      <td>12</td>\n",
       "      <td>0</td>\n",
       "      <td>0</td>\n",
       "    </tr>\n",
       "    <tr>\n",
       "      <th>1012</th>\n",
       "      <td>2020-03-07</td>\n",
       "      <td>11</td>\n",
       "      <td>19</td>\n",
       "      <td>0</td>\n",
       "      <td>11</td>\n",
       "      <td>0</td>\n",
       "      <td>0</td>\n",
       "    </tr>\n",
       "    <tr>\n",
       "      <th>1013</th>\n",
       "      <td>2020-03-08</td>\n",
       "      <td>22</td>\n",
       "      <td>24</td>\n",
       "      <td>0</td>\n",
       "      <td>15</td>\n",
       "      <td>0</td>\n",
       "      <td>0</td>\n",
       "    </tr>\n",
       "    <tr>\n",
       "      <th>1014</th>\n",
       "      <td>2020-03-09</td>\n",
       "      <td>24</td>\n",
       "      <td>18</td>\n",
       "      <td>0</td>\n",
       "      <td>13</td>\n",
       "      <td>0</td>\n",
       "      <td>0</td>\n",
       "    </tr>\n",
       "    <tr>\n",
       "      <th>1015</th>\n",
       "      <td>2020-03-10</td>\n",
       "      <td>22</td>\n",
       "      <td>26</td>\n",
       "      <td>0</td>\n",
       "      <td>16</td>\n",
       "      <td>0</td>\n",
       "      <td>0</td>\n",
       "    </tr>\n",
       "  </tbody>\n",
       "</table>\n",
       "</div>"
      ],
      "text/plain": [
       "           date  pm25  pm10  o3  no2  so2  co\n",
       "1011 2020-03-06    29    16   0   12    0   0\n",
       "1012 2020-03-07    11    19   0   11    0   0\n",
       "1013 2020-03-08    22    24   0   15    0   0\n",
       "1014 2020-03-09    24    18   0   13    0   0\n",
       "1015 2020-03-10    22    26   0   16    0   0"
      ]
     },
     "execution_count": 11,
     "metadata": {},
     "output_type": "execute_result"
    }
   ],
   "source": [
    "aqi_df.head()"
   ]
  },
  {
   "cell_type": "code",
   "execution_count": 12,
   "id": "52668e48-01a8-4eac-942e-73bea4d3528b",
   "metadata": {},
   "outputs": [
    {
     "data": {
      "text/plain": [
       "(1027, 7)"
      ]
     },
     "execution_count": 12,
     "metadata": {},
     "output_type": "execute_result"
    }
   ],
   "source": [
    "aqi_df.shape"
   ]
  },
  {
   "cell_type": "code",
   "execution_count": 13,
   "id": "3bc0dd62-6a55-491d-85a8-55125fd6b7c7",
   "metadata": {},
   "outputs": [
    {
     "data": {
      "text/html": [
       "<div>\n",
       "<style scoped>\n",
       "    .dataframe tbody tr th:only-of-type {\n",
       "        vertical-align: middle;\n",
       "    }\n",
       "\n",
       "    .dataframe tbody tr th {\n",
       "        vertical-align: top;\n",
       "    }\n",
       "\n",
       "    .dataframe thead th {\n",
       "        text-align: right;\n",
       "    }\n",
       "</style>\n",
       "<table border=\"1\" class=\"dataframe\">\n",
       "  <thead>\n",
       "    <tr style=\"text-align: right;\">\n",
       "      <th></th>\n",
       "      <th>Date</th>\n",
       "      <th>New Cases</th>\n",
       "      <th>Total Cases</th>\n",
       "      <th>Recovered</th>\n",
       "      <th>Deaths</th>\n",
       "      <th>Active Cases</th>\n",
       "    </tr>\n",
       "  </thead>\n",
       "  <tbody>\n",
       "    <tr>\n",
       "      <th>0</th>\n",
       "      <td>06/03/2020</td>\n",
       "      <td>1</td>\n",
       "      <td>1</td>\n",
       "      <td>0</td>\n",
       "      <td>0</td>\n",
       "      <td>1</td>\n",
       "    </tr>\n",
       "    <tr>\n",
       "      <th>1</th>\n",
       "      <td>07/03/2020</td>\n",
       "      <td>2</td>\n",
       "      <td>3</td>\n",
       "      <td>0</td>\n",
       "      <td>0</td>\n",
       "      <td>3</td>\n",
       "    </tr>\n",
       "    <tr>\n",
       "      <th>2</th>\n",
       "      <td>08/03/2020</td>\n",
       "      <td>0</td>\n",
       "      <td>3</td>\n",
       "      <td>0</td>\n",
       "      <td>0</td>\n",
       "      <td>3</td>\n",
       "    </tr>\n",
       "    <tr>\n",
       "      <th>3</th>\n",
       "      <td>09/03/2020</td>\n",
       "      <td>1</td>\n",
       "      <td>4</td>\n",
       "      <td>0</td>\n",
       "      <td>0</td>\n",
       "      <td>4</td>\n",
       "    </tr>\n",
       "    <tr>\n",
       "      <th>4</th>\n",
       "      <td>10/03/2020</td>\n",
       "      <td>1</td>\n",
       "      <td>5</td>\n",
       "      <td>0</td>\n",
       "      <td>0</td>\n",
       "      <td>5</td>\n",
       "    </tr>\n",
       "    <tr>\n",
       "      <th>...</th>\n",
       "      <td>...</td>\n",
       "      <td>...</td>\n",
       "      <td>...</td>\n",
       "      <td>...</td>\n",
       "      <td>...</td>\n",
       "      <td>...</td>\n",
       "    </tr>\n",
       "    <tr>\n",
       "      <th>1025</th>\n",
       "      <td>26/12/2022</td>\n",
       "      <td>6</td>\n",
       "      <td>116253</td>\n",
       "      <td>114773</td>\n",
       "      <td>813</td>\n",
       "      <td>271</td>\n",
       "    </tr>\n",
       "    <tr>\n",
       "      <th>1026</th>\n",
       "      <td>27/12/2022</td>\n",
       "      <td>27</td>\n",
       "      <td>116280</td>\n",
       "      <td>114787</td>\n",
       "      <td>813</td>\n",
       "      <td>284</td>\n",
       "    </tr>\n",
       "    <tr>\n",
       "      <th>1027</th>\n",
       "      <td>28/12/2022</td>\n",
       "      <td>23</td>\n",
       "      <td>116303</td>\n",
       "      <td>114814</td>\n",
       "      <td>813</td>\n",
       "      <td>280</td>\n",
       "    </tr>\n",
       "    <tr>\n",
       "      <th>1028</th>\n",
       "      <td>29/12/2022</td>\n",
       "      <td>17</td>\n",
       "      <td>116320</td>\n",
       "      <td>114844</td>\n",
       "      <td>813</td>\n",
       "      <td>267</td>\n",
       "    </tr>\n",
       "    <tr>\n",
       "      <th>1029</th>\n",
       "      <td>30/12/2022</td>\n",
       "      <td>36</td>\n",
       "      <td>116356</td>\n",
       "      <td>114871</td>\n",
       "      <td>815</td>\n",
       "      <td>274</td>\n",
       "    </tr>\n",
       "  </tbody>\n",
       "</table>\n",
       "<p>1030 rows × 6 columns</p>\n",
       "</div>"
      ],
      "text/plain": [
       "            Date  New Cases  Total Cases  Recovered  Deaths  Active Cases\n",
       "0     06/03/2020          1            1          0       0             1\n",
       "1     07/03/2020          2            3          0       0             3\n",
       "2     08/03/2020          0            3          0       0             3\n",
       "3     09/03/2020          1            4          0       0             4\n",
       "4     10/03/2020          1            5          0       0             5\n",
       "...          ...        ...          ...        ...     ...           ...\n",
       "1025  26/12/2022          6       116253     114773     813           271\n",
       "1026  27/12/2022         27       116280     114787     813           284\n",
       "1027  28/12/2022         23       116303     114814     813           280\n",
       "1028  29/12/2022         17       116320     114844     813           267\n",
       "1029  30/12/2022         36       116356     114871     815           274\n",
       "\n",
       "[1030 rows x 6 columns]"
      ]
     },
     "execution_count": 13,
     "metadata": {},
     "output_type": "execute_result"
    }
   ],
   "source": [
    "covid_df"
   ]
  },
  {
   "cell_type": "code",
   "execution_count": 14,
   "id": "278e25e7-dbf6-4824-a51e-ef7045f43df1",
   "metadata": {},
   "outputs": [
    {
     "data": {
      "text/plain": [
       "(1030, 6)"
      ]
     },
     "execution_count": 14,
     "metadata": {},
     "output_type": "execute_result"
    }
   ],
   "source": [
    "covid_df.shape"
   ]
  },
  {
   "cell_type": "code",
   "execution_count": null,
   "id": "80615f12-9c1f-49cf-81a9-1bbb8d1b3fea",
   "metadata": {},
   "outputs": [],
   "source": []
  }
 ],
 "metadata": {
  "kernelspec": {
   "display_name": "Python 3 (ipykernel)",
   "language": "python",
   "name": "python3"
  },
  "language_info": {
   "codemirror_mode": {
    "name": "ipython",
    "version": 3
   },
   "file_extension": ".py",
   "mimetype": "text/x-python",
   "name": "python",
   "nbconvert_exporter": "python",
   "pygments_lexer": "ipython3",
   "version": "3.10.8"
  }
 },
 "nbformat": 4,
 "nbformat_minor": 5
}
