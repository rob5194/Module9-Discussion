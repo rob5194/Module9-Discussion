{
 "cells": [
  {
   "cell_type": "code",
   "execution_count": 165,
   "id": "806eb385-278e-496d-914f-a1ff4aa0b733",
   "metadata": {},
   "outputs": [],
   "source": [
    "import numpy as np\n",
    "import pandas as pd\n",
    "from datetime import datetime\n",
    "import matplotlib.pyplot as plt"
   ]
  },
  {
   "cell_type": "markdown",
   "id": "6de5f241-e91a-440e-a3ad-4ac3bcacf035",
   "metadata": {},
   "source": [
    "# Overview\n",
    "\n",
    "In this notebook, we will explore two datasets:\n",
    "1) Covid-19 related data\n",
    "2) Air Quality Index data\n",
    "\n",
    "The idea is to compare data from both datasets to understand whether covid-19 had any impact on the Air Quality. According to IQAir (https://www.iqair.com/malta), in 2021, Malta's most polluted city was L-Imsida and therefore we will be analysizing whether the Air Quality had improved, worsened, or remained as is during the covid period 2020 - 2022."
   ]
  },
  {
   "cell_type": "code",
   "execution_count": 34,
   "id": "ccfc0858-b4dc-4c14-abe9-1f688579996e",
   "metadata": {},
   "outputs": [],
   "source": [
    "AQIfile = open( './Data/msida-AQI.csv', 'r')\n",
    "CovidTestsfile = open( './Data/COVIDTests.csv', 'r')\n",
    "CovidCasesfile = open('./Data/COVID19.csv')\n"
   ]
  },
  {
   "cell_type": "markdown",
   "id": "7741425c-3bd1-4599-a786-82239ceac5fb",
   "metadata": {},
   "source": [
    "# Data Preperation\n",
    "\n",
    "The first step is to understand the data. Both of the datasets will be imported into dataframes to visualise the data better. Since covid started in 2020, we will be removing older data (<2020) from the AQI Dataset.\n"
   ]
  },
  {
   "cell_type": "code",
   "execution_count": 35,
   "id": "40a3f645-ffaa-4c09-a499-acd07d0adea5",
   "metadata": {},
   "outputs": [],
   "source": [
    "def chr_int(a):\n",
    "    if a.isdigit():\n",
    "        return int(a)\n",
    "    else:\n",
    "        return 0\n",
    "                \n",
    "AQIdata=[]\n",
    "for line in AQIfile:\n",
    "    data1=line.split(',')\n",
    "    if len(data1)==7:\n",
    "        AQIdata.append([pd.to_datetime(data1[0],format=\"%d/%m/%Y\"),chr_int(data1[1]),chr_int(data1[2]),chr_int(data1[3]),chr_int(data1[4]),chr_int(data1[5]),chr_int(data1[6])])\n",
    "        \n",
    "covidtestsdata=[]\n",
    "for line in CovidTestsfile:\n",
    "    data1=line.split(',')\n",
    "    if len(data1)==7:\n",
    "        covidtestsdata.append([pd.to_datetime(data1[0],format=\"%d/%m/%Y\"),chr_int(data1[1]),chr_int(data1[2]),chr_int(data1[3]),chr_int(data1[4]),chr_int(data1[5]),chr_int(data1[6])])  \n",
    "        \n",
    "covidcases=[]\n",
    "for line in CovidCasesfile:\n",
    "    data1=line.split(',')\n",
    "    if len(data1)==6:\n",
    "        covidcases.append([pd.to_datetime(data1[0],format=\"%d/%m/%Y\"),chr_int(data1[1]),chr_int(data1[2]),chr_int(data1[3]),chr_int(data1[4]),chr_int(data1[5])])          "
   ]
  },
  {
   "cell_type": "code",
   "execution_count": 36,
   "id": "3ce97817-d97f-46fc-b22c-4bb3da4a0d89",
   "metadata": {},
   "outputs": [],
   "source": [
    "\n",
    "aqi_df = pd.DataFrame(AQIdata) \n",
    "covidtests_df = pd.DataFrame(covidtestsdata)\n",
    "covidcases_df = pd.DataFrame(covidcases)"
   ]
  },
  {
   "cell_type": "code",
   "execution_count": 37,
   "id": "2e71832f-aef9-481d-afc7-dc1752f0b901",
   "metadata": {},
   "outputs": [
    {
     "data": {
      "text/plain": [
       "0    datetime64[ns]\n",
       "1             int64\n",
       "2             int64\n",
       "3             int64\n",
       "4             int64\n",
       "5             int64\n",
       "6             int64\n",
       "dtype: object"
      ]
     },
     "execution_count": 37,
     "metadata": {},
     "output_type": "execute_result"
    }
   ],
   "source": [
    "aqi_df.dtypes"
   ]
  },
  {
   "cell_type": "code",
   "execution_count": 38,
   "id": "fb9c3ce6-5a10-40c1-81da-8c43c0a695fb",
   "metadata": {},
   "outputs": [
    {
     "data": {
      "text/plain": [
       "0    datetime64[ns]\n",
       "1             int64\n",
       "2             int64\n",
       "3             int64\n",
       "4             int64\n",
       "5             int64\n",
       "6             int64\n",
       "dtype: object"
      ]
     },
     "execution_count": 38,
     "metadata": {},
     "output_type": "execute_result"
    }
   ],
   "source": [
    "covidtests_df.dtypes"
   ]
  },
  {
   "cell_type": "code",
   "execution_count": 39,
   "id": "18b33970-6b7b-48e2-846f-cc7e637f25b1",
   "metadata": {},
   "outputs": [
    {
     "data": {
      "text/plain": [
       "0    datetime64[ns]\n",
       "1             int64\n",
       "2             int64\n",
       "3             int64\n",
       "4             int64\n",
       "5             int64\n",
       "dtype: object"
      ]
     },
     "execution_count": 39,
     "metadata": {},
     "output_type": "execute_result"
    }
   ],
   "source": [
    "covidcases_df.dtypes"
   ]
  },
  {
   "cell_type": "code",
   "execution_count": 40,
   "id": "23da91b2-3d10-41c8-8d90-f90cf628a180",
   "metadata": {},
   "outputs": [],
   "source": [
    "aqi_df.columns = [\"Date\", \"pm25\", \"pm10\", \"o3\", \n",
    "                \"no2\", \"so2\", \"co\"]\n",
    "\n",
    "\n",
    "covidtests_df.columns = [\"Date\",\"NAA tests in previous day\",\"Total NAA tests\",\"Rapid antigen tests in previous day\",\"Total rapid antigen tests\",\n",
    "                         \"NAA and rapid antigen tests in previous day\",\"Total NAA and rapid antigen tests\"]\n",
    "\n",
    "covidcases_df.columns = [\"Date\",\"New Cases\",\"Total Cases\",\"Recovered\",\"Deaths\",\"Active Cases\"]\n"
   ]
  },
  {
   "cell_type": "code",
   "execution_count": 41,
   "id": "a03af14b-39fe-436d-8330-a56dc2df8610",
   "metadata": {},
   "outputs": [],
   "source": [
    "aqi_df = aqi_df.sort_values('Date')\n",
    "aqi_df = aqi_df[aqi_df.Date >= '2020-07-20']"
   ]
  },
  {
   "cell_type": "code",
   "execution_count": 42,
   "id": "5532fe5c-ccff-40bf-a98a-d7815909156d",
   "metadata": {},
   "outputs": [],
   "source": [
    "covidtests_df = covidtests_df[covidtests_df.Date >= '2020-07-20' ]\n",
    "covidtests_df = covidtests_df.sort_values('Date')"
   ]
  },
  {
   "cell_type": "code",
   "execution_count": 43,
   "id": "ecadb05a-e1f7-48f9-a349-8c3e3398e811",
   "metadata": {},
   "outputs": [],
   "source": [
    "covidcases_df = covidcases_df[covidcases_df.Date >= '2020-07-20']\n",
    "covidcases_df = covidcases_df.sort_values('Date')"
   ]
  },
  {
   "cell_type": "code",
   "execution_count": 44,
   "id": "3b821628-9688-4c7a-90d3-040c7ea9e1ea",
   "metadata": {},
   "outputs": [
    {
     "data": {
      "text/html": [
       "<div>\n",
       "<style scoped>\n",
       "    .dataframe tbody tr th:only-of-type {\n",
       "        vertical-align: middle;\n",
       "    }\n",
       "\n",
       "    .dataframe tbody tr th {\n",
       "        vertical-align: top;\n",
       "    }\n",
       "\n",
       "    .dataframe thead th {\n",
       "        text-align: right;\n",
       "    }\n",
       "</style>\n",
       "<table border=\"1\" class=\"dataframe\">\n",
       "  <thead>\n",
       "    <tr style=\"text-align: right;\">\n",
       "      <th></th>\n",
       "      <th>Date</th>\n",
       "      <th>New Cases</th>\n",
       "      <th>Total Cases</th>\n",
       "      <th>Recovered</th>\n",
       "      <th>Deaths</th>\n",
       "      <th>Active Cases</th>\n",
       "    </tr>\n",
       "  </thead>\n",
       "  <tbody>\n",
       "    <tr>\n",
       "      <th>136</th>\n",
       "      <td>2020-07-20</td>\n",
       "      <td>1</td>\n",
       "      <td>677</td>\n",
       "      <td>664</td>\n",
       "      <td>9</td>\n",
       "      <td>0</td>\n",
       "    </tr>\n",
       "    <tr>\n",
       "      <th>137</th>\n",
       "      <td>2020-07-21</td>\n",
       "      <td>0</td>\n",
       "      <td>677</td>\n",
       "      <td>664</td>\n",
       "      <td>9</td>\n",
       "      <td>0</td>\n",
       "    </tr>\n",
       "    <tr>\n",
       "      <th>138</th>\n",
       "      <td>2020-07-22</td>\n",
       "      <td>2</td>\n",
       "      <td>679</td>\n",
       "      <td>665</td>\n",
       "      <td>9</td>\n",
       "      <td>0</td>\n",
       "    </tr>\n",
       "    <tr>\n",
       "      <th>139</th>\n",
       "      <td>2020-07-23</td>\n",
       "      <td>1</td>\n",
       "      <td>680</td>\n",
       "      <td>665</td>\n",
       "      <td>9</td>\n",
       "      <td>0</td>\n",
       "    </tr>\n",
       "    <tr>\n",
       "      <th>140</th>\n",
       "      <td>2020-07-24</td>\n",
       "      <td>6</td>\n",
       "      <td>686</td>\n",
       "      <td>665</td>\n",
       "      <td>9</td>\n",
       "      <td>0</td>\n",
       "    </tr>\n",
       "    <tr>\n",
       "      <th>...</th>\n",
       "      <td>...</td>\n",
       "      <td>...</td>\n",
       "      <td>...</td>\n",
       "      <td>...</td>\n",
       "      <td>...</td>\n",
       "      <td>...</td>\n",
       "    </tr>\n",
       "    <tr>\n",
       "      <th>1024</th>\n",
       "      <td>2022-12-25</td>\n",
       "      <td>16</td>\n",
       "      <td>116247</td>\n",
       "      <td>114763</td>\n",
       "      <td>813</td>\n",
       "      <td>0</td>\n",
       "    </tr>\n",
       "    <tr>\n",
       "      <th>1025</th>\n",
       "      <td>2022-12-26</td>\n",
       "      <td>6</td>\n",
       "      <td>116253</td>\n",
       "      <td>114773</td>\n",
       "      <td>813</td>\n",
       "      <td>0</td>\n",
       "    </tr>\n",
       "    <tr>\n",
       "      <th>1026</th>\n",
       "      <td>2022-12-27</td>\n",
       "      <td>27</td>\n",
       "      <td>116280</td>\n",
       "      <td>114787</td>\n",
       "      <td>813</td>\n",
       "      <td>0</td>\n",
       "    </tr>\n",
       "    <tr>\n",
       "      <th>1027</th>\n",
       "      <td>2022-12-28</td>\n",
       "      <td>23</td>\n",
       "      <td>116303</td>\n",
       "      <td>114814</td>\n",
       "      <td>813</td>\n",
       "      <td>0</td>\n",
       "    </tr>\n",
       "    <tr>\n",
       "      <th>1028</th>\n",
       "      <td>2022-12-29</td>\n",
       "      <td>17</td>\n",
       "      <td>116320</td>\n",
       "      <td>114844</td>\n",
       "      <td>813</td>\n",
       "      <td>0</td>\n",
       "    </tr>\n",
       "  </tbody>\n",
       "</table>\n",
       "<p>893 rows × 6 columns</p>\n",
       "</div>"
      ],
      "text/plain": [
       "           Date  New Cases  Total Cases  Recovered  Deaths  Active Cases\n",
       "136  2020-07-20          1          677        664       9             0\n",
       "137  2020-07-21          0          677        664       9             0\n",
       "138  2020-07-22          2          679        665       9             0\n",
       "139  2020-07-23          1          680        665       9             0\n",
       "140  2020-07-24          6          686        665       9             0\n",
       "...         ...        ...          ...        ...     ...           ...\n",
       "1024 2022-12-25         16       116247     114763     813             0\n",
       "1025 2022-12-26          6       116253     114773     813             0\n",
       "1026 2022-12-27         27       116280     114787     813             0\n",
       "1027 2022-12-28         23       116303     114814     813             0\n",
       "1028 2022-12-29         17       116320     114844     813             0\n",
       "\n",
       "[893 rows x 6 columns]"
      ]
     },
     "execution_count": 44,
     "metadata": {},
     "output_type": "execute_result"
    }
   ],
   "source": [
    "covidcases_df"
   ]
  },
  {
   "cell_type": "markdown",
   "id": "f0311d67-f4af-4268-8dfe-a3aef1a7de80",
   "metadata": {},
   "source": [
    "# Data Exploration\n",
    "\n",
    "In this step, we will be exploring the datasets and seeing different trends within each dataset"
   ]
  },
  {
   "cell_type": "code",
   "execution_count": 212,
   "id": "6ebea68a-7a83-4e26-9a47-3fbae1907bba",
   "metadata": {},
   "outputs": [],
   "source": [
    "covidcases_df['YearMonth'] = covidcases_df.Date.dt.to_period('M')"
   ]
  },
  {
   "cell_type": "code",
   "execution_count": 213,
   "id": "84eb4ad1-18ad-4237-865f-4719e534cc83",
   "metadata": {},
   "outputs": [],
   "source": [
    "MonthlyCovidCases_df =  covidcases_df.groupby([covidcases_df['YearMonth']]).agg({'New Cases':sum})\n",
    "#.plot(legend=True)"
   ]
  },
  {
   "cell_type": "code",
   "execution_count": 227,
   "id": "4c780844-6de0-4bff-8e6a-81cd7306f315",
   "metadata": {},
   "outputs": [],
   "source": [
    "MonthlyDeaths_df = covidcases_df.groupby([covidcases_df['YearMonth']]).agg({'Deaths':max})\n",
    "MonthlyDeaths_df = MonthlyDeaths_df['Deaths'] - MonthlyDeaths_df['Deaths'].shift(fill_value=0)\n",
    "MonthlyCovidCases_df[\"New Deaths\"] = MonthlyDeaths_df"
   ]
  },
  {
   "cell_type": "code",
   "execution_count": 229,
   "id": "88419baa-27b6-411f-89d1-70417e0b10c1",
   "metadata": {},
   "outputs": [],
   "source": [
    "MonthlyRecoveries_df = covidcases_df.groupby([covidcases_df['YearMonth']]).agg({'Recovered':max})\n",
    "MonthlyRecoveries_df = MonthlyRecoveries_df['Recovered'] - MonthlyRecoveries_df['Recovered'].shift(fill_value=0)\n",
    "MonthlyCovidCases_df[\"New Recoveries\"] = MonthlyRecoveries_df"
   ]
  },
  {
   "cell_type": "code",
   "execution_count": 232,
   "id": "8e4b8499-2c50-427c-9475-674f2679c98e",
   "metadata": {},
   "outputs": [
    {
     "data": {
      "text/html": [
       "<div>\n",
       "<style scoped>\n",
       "    .dataframe tbody tr th:only-of-type {\n",
       "        vertical-align: middle;\n",
       "    }\n",
       "\n",
       "    .dataframe tbody tr th {\n",
       "        vertical-align: top;\n",
       "    }\n",
       "\n",
       "    .dataframe thead th {\n",
       "        text-align: right;\n",
       "    }\n",
       "</style>\n",
       "<table border=\"1\" class=\"dataframe\">\n",
       "  <thead>\n",
       "    <tr style=\"text-align: right;\">\n",
       "      <th></th>\n",
       "      <th>New Cases</th>\n",
       "      <th>New Deaths</th>\n",
       "      <th>New Recoveries</th>\n",
       "    </tr>\n",
       "    <tr>\n",
       "      <th>YearMonth</th>\n",
       "      <th></th>\n",
       "      <th></th>\n",
       "      <th></th>\n",
       "    </tr>\n",
       "  </thead>\n",
       "  <tbody>\n",
       "    <tr>\n",
       "      <th>2020-07</th>\n",
       "      <td>148</td>\n",
       "      <td>9</td>\n",
       "      <td>665</td>\n",
       "    </tr>\n",
       "    <tr>\n",
       "      <th>2020-08</th>\n",
       "      <td>1164</td>\n",
       "      <td>3</td>\n",
       "      <td>735</td>\n",
       "    </tr>\n",
       "    <tr>\n",
       "      <th>2020-09</th>\n",
       "      <td>1175</td>\n",
       "      <td>22</td>\n",
       "      <td>1162</td>\n",
       "    </tr>\n",
       "    <tr>\n",
       "      <th>2020-10</th>\n",
       "      <td>2984</td>\n",
       "      <td>28</td>\n",
       "      <td>1593</td>\n",
       "    </tr>\n",
       "    <tr>\n",
       "      <th>2020-11</th>\n",
       "      <td>3831</td>\n",
       "      <td>75</td>\n",
       "      <td>3510</td>\n",
       "    </tr>\n",
       "    <tr>\n",
       "      <th>2020-12</th>\n",
       "      <td>2901</td>\n",
       "      <td>82</td>\n",
       "      <td>3456</td>\n",
       "    </tr>\n",
       "    <tr>\n",
       "      <th>2021-01</th>\n",
       "      <td>5129</td>\n",
       "      <td>48</td>\n",
       "      <td>3839</td>\n",
       "    </tr>\n",
       "    <tr>\n",
       "      <th>2021-02</th>\n",
       "      <td>4579</td>\n",
       "      <td>48</td>\n",
       "      <td>4487</td>\n",
       "    </tr>\n",
       "    <tr>\n",
       "      <th>2021-03</th>\n",
       "      <td>6551</td>\n",
       "      <td>77</td>\n",
       "      <td>8358</td>\n",
       "    </tr>\n",
       "    <tr>\n",
       "      <th>2021-04</th>\n",
       "      <td>1259</td>\n",
       "      <td>21</td>\n",
       "      <td>1743</td>\n",
       "    </tr>\n",
       "    <tr>\n",
       "      <th>2021-05</th>\n",
       "      <td>243</td>\n",
       "      <td>6</td>\n",
       "      <td>502</td>\n",
       "    </tr>\n",
       "    <tr>\n",
       "      <th>2021-06</th>\n",
       "      <td>88</td>\n",
       "      <td>1</td>\n",
       "      <td>108</td>\n",
       "    </tr>\n",
       "    <tr>\n",
       "      <th>2021-07</th>\n",
       "      <td>3672</td>\n",
       "      <td>3</td>\n",
       "      <td>1471</td>\n",
       "    </tr>\n",
       "    <tr>\n",
       "      <th>2021-08</th>\n",
       "      <td>1876</td>\n",
       "      <td>18</td>\n",
       "      <td>3049</td>\n",
       "    </tr>\n",
       "    <tr>\n",
       "      <th>2021-09</th>\n",
       "      <td>978</td>\n",
       "      <td>16</td>\n",
       "      <td>1290</td>\n",
       "    </tr>\n",
       "    <tr>\n",
       "      <th>2021-10</th>\n",
       "      <td>506</td>\n",
       "      <td>4</td>\n",
       "      <td>615</td>\n",
       "    </tr>\n",
       "    <tr>\n",
       "      <th>2021-11</th>\n",
       "      <td>1782</td>\n",
       "      <td>7</td>\n",
       "      <td>802</td>\n",
       "    </tr>\n",
       "    <tr>\n",
       "      <th>2021-12</th>\n",
       "      <td>13033</td>\n",
       "      <td>9</td>\n",
       "      <td>2771</td>\n",
       "    </tr>\n",
       "    <tr>\n",
       "      <th>2022-01</th>\n",
       "      <td>15244</td>\n",
       "      <td>73</td>\n",
       "      <td>23640</td>\n",
       "    </tr>\n",
       "    <tr>\n",
       "      <th>2022-02</th>\n",
       "      <td>3558</td>\n",
       "      <td>55</td>\n",
       "      <td>5783</td>\n",
       "    </tr>\n",
       "    <tr>\n",
       "      <th>2022-03</th>\n",
       "      <td>8267</td>\n",
       "      <td>33</td>\n",
       "      <td>3286</td>\n",
       "    </tr>\n",
       "    <tr>\n",
       "      <th>2022-04</th>\n",
       "      <td>12202</td>\n",
       "      <td>60</td>\n",
       "      <td>14254</td>\n",
       "    </tr>\n",
       "    <tr>\n",
       "      <th>2022-05</th>\n",
       "      <td>3001</td>\n",
       "      <td>23</td>\n",
       "      <td>5096</td>\n",
       "    </tr>\n",
       "    <tr>\n",
       "      <th>2022-06</th>\n",
       "      <td>8390</td>\n",
       "      <td>20</td>\n",
       "      <td>3549</td>\n",
       "    </tr>\n",
       "    <tr>\n",
       "      <th>2022-07</th>\n",
       "      <td>9696</td>\n",
       "      <td>53</td>\n",
       "      <td>14099</td>\n",
       "    </tr>\n",
       "    <tr>\n",
       "      <th>2022-08</th>\n",
       "      <td>1222</td>\n",
       "      <td>7</td>\n",
       "      <td>2863</td>\n",
       "    </tr>\n",
       "    <tr>\n",
       "      <th>2022-09</th>\n",
       "      <td>642</td>\n",
       "      <td>5</td>\n",
       "      <td>489</td>\n",
       "    </tr>\n",
       "    <tr>\n",
       "      <th>2022-10</th>\n",
       "      <td>657</td>\n",
       "      <td>2</td>\n",
       "      <td>594</td>\n",
       "    </tr>\n",
       "    <tr>\n",
       "      <th>2022-11</th>\n",
       "      <td>490</td>\n",
       "      <td>1</td>\n",
       "      <td>635</td>\n",
       "    </tr>\n",
       "    <tr>\n",
       "      <th>2022-12</th>\n",
       "      <td>481</td>\n",
       "      <td>4</td>\n",
       "      <td>400</td>\n",
       "    </tr>\n",
       "  </tbody>\n",
       "</table>\n",
       "</div>"
      ],
      "text/plain": [
       "           New Cases  New Deaths  New Recoveries\n",
       "YearMonth                                       \n",
       "2020-07          148           9             665\n",
       "2020-08         1164           3             735\n",
       "2020-09         1175          22            1162\n",
       "2020-10         2984          28            1593\n",
       "2020-11         3831          75            3510\n",
       "2020-12         2901          82            3456\n",
       "2021-01         5129          48            3839\n",
       "2021-02         4579          48            4487\n",
       "2021-03         6551          77            8358\n",
       "2021-04         1259          21            1743\n",
       "2021-05          243           6             502\n",
       "2021-06           88           1             108\n",
       "2021-07         3672           3            1471\n",
       "2021-08         1876          18            3049\n",
       "2021-09          978          16            1290\n",
       "2021-10          506           4             615\n",
       "2021-11         1782           7             802\n",
       "2021-12        13033           9            2771\n",
       "2022-01        15244          73           23640\n",
       "2022-02         3558          55            5783\n",
       "2022-03         8267          33            3286\n",
       "2022-04        12202          60           14254\n",
       "2022-05         3001          23            5096\n",
       "2022-06         8390          20            3549\n",
       "2022-07         9696          53           14099\n",
       "2022-08         1222           7            2863\n",
       "2022-09          642           5             489\n",
       "2022-10          657           2             594\n",
       "2022-11          490           1             635\n",
       "2022-12          481           4             400"
      ]
     },
     "execution_count": 232,
     "metadata": {},
     "output_type": "execute_result"
    }
   ],
   "source": [
    "MonthlyCovidCases_df"
   ]
  },
  {
   "cell_type": "code",
   "execution_count": 235,
   "id": "72e30552-95e3-479f-9de6-c798f53f911f",
   "metadata": {},
   "outputs": [
    {
     "data": {
      "image/png": "[encoded data removed]",
      "text/plain": [
       "<Figure size 640x480 with 1 Axes>"
      ]
     },
     "metadata": {},
     "output_type": "display_data"
    }
   ],
   "source": [
    "MonthlyCovidCases_df_pt = MonthlyCovidCases_df.plot(legend=True)"
   ]
  },
  {
   "cell_type": "code",
   "execution_count": 220,
   "id": "e8b83a16-20c2-4678-863a-ebf8e465db32",
   "metadata": {},
   "outputs": [],
   "source": [
    "#MonthlyNewCases_df = covidcases_df.groupby([covidcases_df['Date'].rename('Year').dt.year, covidcases_df['Date'].rename('Month').dt.month]).agg({'New Cases':sum})"
   ]
  },
  {
   "cell_type": "code",
   "execution_count": 221,
   "id": "eb6cc003-c493-456e-8776-e7b6ec072fbc",
   "metadata": {},
   "outputs": [],
   "source": [
    "#MonthlyDeaths_df = covidcases_df.groupby([covidcases_df['Date'].dt.year, covidcases_df['Date'].dt.month]).agg({'Deaths':max})\n",
    "#MonthlyDeaths_df = MonthlyDeaths_df['Deaths'] - MonthlyDeaths_df['Deaths'].shift(fill_value=0)\n",
    "#MonthlyNewCases_df[\"New Deaths\"] = MonthlyDeaths_df"
   ]
  },
  {
   "cell_type": "code",
   "execution_count": 222,
   "id": "1289425a-b30c-4930-80d6-e9668b59925c",
   "metadata": {},
   "outputs": [],
   "source": [
    "#MonthlyRecoveries_df = covidcases_df.groupby([covidcases_df['Date'].dt.year, covidcases_df['Date'].dt.month]).agg({'Recovered':max})\n",
    "#MonthlyRecoveries_df = MonthlyRecoveries_df['Recovered'] - MonthlyRecoveries_df['Recovered'].shift(fill_value=0)\n",
    "#MonthlyNewCases_df[\"New Recoveries\"] = MonthlyRecoveries_df"
   ]
  },
  {
   "cell_type": "code",
   "execution_count": 223,
   "id": "c92e0489-0cc4-4926-9e72-18875e0ab72d",
   "metadata": {},
   "outputs": [],
   "source": [
    "#MonthlyNewCases_df1 = MonthlyNewCases_df\n",
    "#MonthlyNewCases_df1[\"tEST\"] = pd.DataFrame(pd.to_datetime(covidcases_df['Date']).dt.to_period('M'))"
   ]
  },
  {
   "cell_type": "code",
   "execution_count": 233,
   "id": "2d1d827b-3d2c-46b1-b0db-ff426b094483",
   "metadata": {},
   "outputs": [],
   "source": [
    "#MonthlyNewCases_df"
   ]
  },
  {
   "cell_type": "code",
   "execution_count": null,
   "id": "5834e9fe-6e54-4419-8f53-dc8d787338b0",
   "metadata": {},
   "outputs": [],
   "source": []
  }
 ],
 "metadata": {
  "kernelspec": {
   "display_name": "Python 3 (ipykernel)",
   "language": "python",
   "name": "python3"
  },
  "language_info": {
   "codemirror_mode": {
    "name": "ipython",
    "version": 3
   },
   "file_extension": ".py",
   "mimetype": "text/x-python",
   "name": "python",
   "nbconvert_exporter": "python",
   "pygments_lexer": "ipython3",
   "version": "3.10.8"
  }
 },
 "nbformat": 4,
 "nbformat_minor": 5
}
